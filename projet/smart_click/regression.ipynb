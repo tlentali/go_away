{
 "cells": [
  {
   "cell_type": "code",
   "execution_count": null,
   "metadata": {},
   "outputs": [],
   "source": []
  },
  {
   "cell_type": "code",
   "execution_count": null,
   "metadata": {},
   "outputs": [],
   "source": []
  },
  {
   "cell_type": "code",
   "execution_count": null,
   "metadata": {},
   "outputs": [],
   "source": [
    "df_max_BetDate = df_bc.groupby(['UserId'])['BetDate'].max().reset_index()\n",
    "df_max_BetDate.columns = ['UserId', 'max_BetDate']\n",
    "\n",
    "df_min_FirstDepositDate = df_bc.groupby(['UserId'])['FirstDepositDate'].min().reset_index()\n",
    "df_min_FirstDepositDate.columns = ['UserId', 'min_FirstDepositDate']\n",
    "\n",
    "df_ltv = pd.merge(df_bc, \n",
    "                  df_max_BetDate, \n",
    "                  how='left', \n",
    "                  left_on=['UserId'], \n",
    "                  right_on=['UserId'])\n",
    "\n",
    "df_ltv = pd.merge(df_ltv, \n",
    "                  df_min_FirstDepositDate, \n",
    "                  how='left', \n",
    "                  left_on=['UserId'], \n",
    "                  right_on=['UserId'])\n",
    "\n",
    "df_ltv['lifetime'] = df_ltv['max_BetDate'] - df_ltv['min_FirstDepositDate']\n",
    "\n",
    "df_ltv.head()"
   ]
  },
  {
   "cell_type": "code",
   "execution_count": null,
   "metadata": {},
   "outputs": [],
   "source": [
    "df_Value = df_bc.groupby(['UserId'])['BetAmount'].sum().reset_index()\n",
    "df_Value.columns = ['UserId', 'Value']\n",
    "\n",
    "df_ltv = pd.merge(df_ltv, \n",
    "                  df_Value, \n",
    "                  how='left', \n",
    "                  left_on=['UserId'], \n",
    "                  right_on=['UserId'])\n",
    "\n",
    "df_ltv.head()"
   ]
  },
  {
   "cell_type": "code",
   "execution_count": null,
   "metadata": {},
   "outputs": [],
   "source": [
    "# value/lifetime\n",
    "df_ltv['lifetime_int'] = df_ltv['lifetime'].astype('<m8[D]')\n",
    "# turn 1 the 0 lifetime\n",
    "df_ltv['lifetime_int'] = np.where(df_ltv['lifetime_int'] == 0, 1, df_ltv['lifetime_int'])\n",
    "df_ltv['Value_lifetime'] = df_ltv['Value'] / df_ltv['lifetime_int']"
   ]
  },
  {
   "cell_type": "code",
   "execution_count": null,
   "metadata": {},
   "outputs": [],
   "source": [
    "# age\n",
    "now = pd.Timestamp(datetime.now())\n",
    "df_ltv['age'] = (now - df_bc['BirthDate']).astype('<m8[Y]')"
   ]
  },
  {
   "cell_type": "code",
   "execution_count": null,
   "metadata": {},
   "outputs": [],
   "source": [
    "df_ltv['lifetime_int'] = df_ltv['lifetime'].dt.days"
   ]
  },
  {
   "cell_type": "code",
   "execution_count": null,
   "metadata": {},
   "outputs": [],
   "source": [
    "from datetime import timedelta"
   ]
  },
  {
   "cell_type": "code",
   "execution_count": null,
   "metadata": {},
   "outputs": [],
   "source": [
    "df_ltv_15 = df_ltv[df_ltv['BetDate'] <= (df_ltv['FirstDepositDate'] + timedelta(days=15))]"
   ]
  },
  {
   "cell_type": "code",
   "execution_count": null,
   "metadata": {},
   "outputs": [],
   "source": [
    "mean_bet_by_user = df_ltv_15.groupby('UserId')['BetAmount'].mean().reset_index()\n",
    "mean_bet_by_user.columns = ['UserId', 'mean_bet']\n",
    "\n",
    "min_bet_by_user = df_ltv_15.groupby('UserId')['BetAmount'].min().reset_index()\n",
    "min_bet_by_user.columns = ['UserId', 'min_bet']\n",
    "\n",
    "max_bet_by_user = df_ltv_15.groupby('UserId')['BetAmount'].max().reset_index()\n",
    "max_bet_by_user.columns = ['UserId', 'max_bet']\n",
    "\n",
    "median_bet_by_user = df_ltv_15.groupby('UserId')['BetAmount'].median().reset_index()\n",
    "median_bet_by_user.columns = ['UserId', 'median_bet']\n",
    "\n",
    "sum_bet_by_user = df_ltv_15.groupby('UserId')['BetAmount'].sum().reset_index()\n",
    "sum_bet_by_user.columns = ['UserId', 'sum_bet']\n",
    "\n",
    "count_bet_by_user = df_ltv_15.groupby('UserId')['BetId'].count().reset_index()\n",
    "count_bet_by_user.columns = ['UserId', 'count_bet']\n"
   ]
  },
  {
   "cell_type": "code",
   "execution_count": null,
   "metadata": {},
   "outputs": [],
   "source": [
    "mean_bet_won_by_user = df_ltv_15.groupby('UserId')['AmountWon'].mean().reset_index()\n",
    "mean_bet_won_by_user.columns = ['UserId', 'mean_bet_won']\n",
    "\n",
    "min_bet_won_by_user = df_ltv_15.groupby('UserId')['AmountWon'].min().reset_index()\n",
    "min_bet_won_by_user.columns = ['UserId', 'min_bet_won']\n",
    "\n",
    "max_bet_won_by_user = df_ltv_15.groupby('UserId')['AmountWon'].max().reset_index()\n",
    "max_bet_won_by_user.columns = ['UserId', 'max_bet_won']\n",
    "\n",
    "median_bet_won_by_user = df_ltv_15.groupby('UserId')['AmountWon'].median().reset_index()\n",
    "median_bet_won_by_user.columns = ['UserId', 'median_bet_won']\n",
    "\n",
    "sum_bet_won_by_user = df_ltv_15.groupby('UserId')['AmountWon'].sum().reset_index()\n",
    "sum_bet_won_by_user.columns = ['UserId', 'sum_bet_won']\n",
    "\n",
    "count_bet_won_by_user = df_ltv_15[df_ltv_15['AmountWon']>0].groupby('UserId')['BetId'].count().reset_index()\n",
    "count_bet_won_by_user.columns = ['UserId', 'count_bet_won']"
   ]
  },
  {
   "cell_type": "code",
   "execution_count": null,
   "metadata": {},
   "outputs": [],
   "source": [
    "application_used = pd.get_dummies(df_ltv_15[['UserId', 'Application']]).groupby('UserId').sum()"
   ]
  },
  {
   "cell_type": "code",
   "execution_count": null,
   "metadata": {},
   "outputs": [],
   "source": [
    "mean_ods_by_user = df_ltv_15.groupby('UserId')['Odds'].mean()"
   ]
  },
  {
   "cell_type": "code",
   "execution_count": null,
   "metadata": {},
   "outputs": [],
   "source": [
    "islive_by_user = df_ltv_15.groupby('UserId')['IsLive'].max()"
   ]
  },
  {
   "cell_type": "code",
   "execution_count": null,
   "metadata": {},
   "outputs": [],
   "source": [
    "partnertype_used = pd.get_dummies(df_ltv_15[['UserId', 'PartnerType']]).groupby('UserId').sum()"
   ]
  },
  {
   "cell_type": "code",
   "execution_count": null,
   "metadata": {},
   "outputs": [],
   "source": [
    "gender_used = pd.get_dummies(df_ltv_15[['UserId', 'Gender']]).groupby('UserId').sum()\n",
    "gender_used = gender_used / gender_used\n",
    "gender_used = gender_used.fillna(0)"
   ]
  },
  {
   "cell_type": "code",
   "execution_count": null,
   "metadata": {},
   "outputs": [],
   "source": [
    "Country_used = pd.get_dummies(df_ltv_15[['UserId', 'Country']]).groupby('UserId').sum()\n",
    "Country_used = Country_used / Country_used\n",
    "Country_used = Country_used.fillna(0)"
   ]
  },
  {
   "cell_type": "code",
   "execution_count": null,
   "metadata": {},
   "outputs": [],
   "source": [
    "df_res = pd.merge(mean_bet_by_user, \n",
    "                  min_bet_by_user, \n",
    "                  how='left', \n",
    "                  left_on=['UserId'], \n",
    "                  right_on=['UserId'])\n",
    "df_res = pd.merge(df_res, \n",
    "                  max_bet_by_user, \n",
    "                  how='left', \n",
    "                  left_on=['UserId'], \n",
    "                  right_on=['UserId'])\n",
    "df_res = pd.merge(df_res, \n",
    "                  median_bet_by_user, \n",
    "                  how='left', \n",
    "                  left_on=['UserId'], \n",
    "                  right_on=['UserId'])\n",
    "df_res = pd.merge(df_res, \n",
    "                  sum_bet_by_user, \n",
    "                  how='left', \n",
    "                  left_on=['UserId'], \n",
    "                  right_on=['UserId'])\n",
    "df_res = pd.merge(df_res, \n",
    "                  count_bet_by_user, \n",
    "                  how='left', \n",
    "                  left_on=['UserId'], \n",
    "                  right_on=['UserId'])\n",
    "df_res = pd.merge(df_res, \n",
    "                  mean_bet_won_by_user, \n",
    "                  how='left', \n",
    "                  left_on=['UserId'], \n",
    "                  right_on=['UserId'])\n",
    "df_res = pd.merge(df_res, \n",
    "                  min_bet_won_by_user, \n",
    "                  how='left', \n",
    "                  left_on=['UserId'], \n",
    "                  right_on=['UserId'])\n",
    "df_res = pd.merge(df_res, \n",
    "                  max_bet_won_by_user, \n",
    "                  how='left', \n",
    "                  left_on=['UserId'], \n",
    "                  right_on=['UserId'])\n",
    "df_res = pd.merge(df_res, \n",
    "                  median_bet_won_by_user, \n",
    "                  how='left', \n",
    "                  left_on=['UserId'], \n",
    "                  right_on=['UserId'])\n",
    "df_res = pd.merge(df_res, \n",
    "                  sum_bet_won_by_user, \n",
    "                  how='left', \n",
    "                  left_on=['UserId'], \n",
    "                  right_on=['UserId'])\n",
    "df_res = pd.merge(df_res, \n",
    "                  count_bet_won_by_user, \n",
    "                  how='left', \n",
    "                  left_on=['UserId'], \n",
    "                  right_on=['UserId'])\n",
    "df_res = pd.merge(df_res, \n",
    "                  application_used, \n",
    "                  how='left', \n",
    "                  left_on=['UserId'], \n",
    "                  right_on=['UserId'])\n",
    "df_res = pd.merge(df_res, \n",
    "                  mean_ods_by_user, \n",
    "                  how='left', \n",
    "                  left_on=['UserId'], \n",
    "                  right_on=['UserId'])\n",
    "df_res = pd.merge(df_res, \n",
    "                  islive_by_user, \n",
    "                  how='left', \n",
    "                  left_on=['UserId'], \n",
    "                  right_on=['UserId'])\n",
    "df_res = pd.merge(df_res, \n",
    "                  partnertype_used, \n",
    "                  how='left', \n",
    "                  left_on=['UserId'], \n",
    "                  right_on=['UserId'])\n",
    "df_res = pd.merge(df_res, \n",
    "                  gender_used, \n",
    "                  how='left', \n",
    "                  left_on=['UserId'], \n",
    "                  right_on=['UserId'])\n",
    "df_res = pd.merge(df_res, \n",
    "                  Country_used, \n",
    "                  how='left', \n",
    "                  left_on=['UserId'], \n",
    "                  right_on=['UserId'])"
   ]
  },
  {
   "cell_type": "code",
   "execution_count": null,
   "metadata": {},
   "outputs": [],
   "source": [
    "df_res['ratio_win'] = df_res['count_bet_won'] / df_res['count_bet']"
   ]
  },
  {
   "cell_type": "code",
   "execution_count": null,
   "metadata": {},
   "outputs": [],
   "source": [
    "df_res = df_res.fillna(0)"
   ]
  },
  {
   "cell_type": "code",
   "execution_count": null,
   "metadata": {},
   "outputs": [],
   "source": [
    "ltv_to_evaluation = df_ltv[['UserId', 'Value_lifetime']].drop_duplicates()"
   ]
  },
  {
   "cell_type": "code",
   "execution_count": null,
   "metadata": {},
   "outputs": [],
   "source": [
    "df_final = pd.merge(df_res, \n",
    "                    ltv_to_evaluation, \n",
    "                    how='left', \n",
    "                    left_on=['UserId'], \n",
    "                    right_on=['UserId'])"
   ]
  },
  {
   "cell_type": "code",
   "execution_count": null,
   "metadata": {},
   "outputs": [],
   "source": [
    "import pandas as pd\n",
    "from sklearn.preprocessing import MinMaxScaler\n",
    "\n",
    "scaler = MinMaxScaler()\n",
    "\n",
    "dfTest = scaler.fit_transform(df_final[list(set(df_final).difference({'Value_lifetime'}))])\n",
    "\n",
    "dfTest"
   ]
  },
  {
   "cell_type": "code",
   "execution_count": null,
   "metadata": {},
   "outputs": [],
   "source": [
    "import numpy as np\n",
    "from sklearn.linear_model import LinearRegression\n",
    "from sklearn.model_selection import train_test_split\n",
    "from sklearn.metrics import mean_squared_error, r2_score\n",
    "\n",
    "X = dfTest\n",
    "# y = 1 * x_0 + 2 * x_1 + 3\n",
    "y = df_final['Value_lifetime']\n",
    "\n",
    "X_train, X_test, y_train, y_test = train_test_split(\n",
    "    X, y, test_size=0.33, random_state=42)\n",
    "\n",
    "reg = LinearRegression().fit(X_train, y_train)\n",
    "reg.score(X, y)\n",
    "\n",
    "\n",
    "y_pred = reg.predict(X_test)\n",
    "# The coefficients\n",
    "print('Coefficients: \\n', reg.coef_)\n",
    "# The mean squared error\n",
    "print(\"Mean squared error: %.2f\"\n",
    "      % mean_squared_error(y_test, y_pred))\n",
    "# Explained variance score: 1 is perfect prediction\n",
    "print('Variance score: %.2f' % r2_score(y_test, y_pred))"
   ]
  },
  {
   "cell_type": "code",
   "execution_count": null,
   "metadata": {},
   "outputs": [],
   "source": [
    "from sklearn import svm\n",
    "\n",
    "X = dfTest\n",
    "# y = 1 * x_0 + 2 * x_1 + 3\n",
    "y = df_final['Value_lifetime']\n",
    "\n",
    "X_train, X_test, y_train, y_test = train_test_split(\n",
    "    X, y, test_size=0.33, random_state=42)\n",
    "\n",
    "clf = svm.SVR()\n",
    "clf.fit(X_train, y_train) \n",
    "\n",
    "clf.score(X_train, y_train)\n",
    "\n",
    "\n",
    "y_pred = clf.predict(X_test)\n",
    "# The coefficients\n",
    "#print('Coefficients: \\n', clf.coef_)\n",
    "# The mean squared error\n",
    "#print(\"Mean squared error: %.2f\"\n",
    "      #% mean_squared_error(y_test, y_pred))\n",
    "# Explained variance score: 1 is perfect prediction\n",
    "print('Variance score: %.2f' % r2_score(y_test, y_pred))\n",
    "\n"
   ]
  },
  {
   "cell_type": "code",
   "execution_count": null,
   "metadata": {},
   "outputs": [],
   "source": [
    "print('Variance score: %.2f' % r2_score(y_test, y_pred))\n"
   ]
  },
  {
   "cell_type": "code",
   "execution_count": null,
   "metadata": {},
   "outputs": [],
   "source": []
  }
 ],
 "metadata": {
  "kernelspec": {
   "display_name": "Python 3",
   "language": "python",
   "name": "python3"
  },
  "language_info": {
   "codemirror_mode": {
    "name": "ipython",
    "version": 3
   },
   "file_extension": ".py",
   "mimetype": "text/x-python",
   "name": "python",
   "nbconvert_exporter": "python",
   "pygments_lexer": "ipython3",
   "version": "3.5.2"
  }
 },
 "nbformat": 4,
 "nbformat_minor": 2
}
